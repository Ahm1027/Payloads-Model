{
  "nbformat": 4,
  "nbformat_minor": 0,
  "metadata": {
    "colab": {
      "name": "Payload_Model_Ngrams.ipynb",
      "provenance": [],
      "collapsed_sections": [],
      "authorship_tag": "ABX9TyP0djmzB2xdMwpl+zc3fI0/",
      "include_colab_link": true
    },
    "kernelspec": {
      "display_name": "Python 3",
      "name": "python3"
    },
    "language_info": {
      "name": "python"
    }
  },
  "cells": [
    {
      "cell_type": "markdown",
      "metadata": {
        "id": "view-in-github",
        "colab_type": "text"
      },
      "source": [
        "<a href=\"https://colab.research.google.com/github/Ahm1027/Payloads-Model/blob/Debug-Tests/Payload_Model_Ngrams.ipynb\" target=\"_parent\"><img src=\"https://colab.research.google.com/assets/colab-badge.svg\" alt=\"Open In Colab\"/></a>"
      ]
    },
    {
      "cell_type": "code",
      "metadata": {
        "id": "zPnUtvD1hqtl"
      },
      "source": [
        "import pandas as pd\n",
        "import numpy as np\n",
        "import os\n",
        "import tensorflow as tf\n",
        "from tensorflow.keras import Sequential\n",
        "from keras.layers import Activation, Dense, Dropout\n",
        "from sklearn.metrics import accuracy_score\n",
        "from sklearn.preprocessing import LabelBinarizer, LabelEncoder\n",
        "from sklearn import preprocessing\n",
        "from sklearn.naive_bayes import MultinomialNB\n",
        "from sklearn.pipeline import Pipeline\n",
        "from sklearn.feature_extraction.text import TfidfTransformer\n",
        "from sklearn.feature_extraction.text import CountVectorizer, TfidfVectorizer\n",
        "from sklearn.decomposition import TruncatedSVD\n",
        "from nltk import ngrams\n",
        "from sklearn.preprocessing import Normalizer\n",
        "import matplotlib.pyplot as plt\n",
        "from google.colab import drive\n",
        "import binascii"
      ],
      "execution_count": 6,
      "outputs": []
    },
    {
      "cell_type": "code",
      "metadata": {
        "colab": {
          "base_uri": "https://localhost:8080/"
        },
        "id": "BFlRLYKeh3L-",
        "outputId": "bb262f55-675f-4cae-9c62-a0ca3ad730f5"
      },
      "source": [
        "drive.mount('/content/drive')"
      ],
      "execution_count": 7,
      "outputs": [
        {
          "output_type": "stream",
          "name": "stdout",
          "text": [
            "Drive already mounted at /content/drive; to attempt to forcibly remount, call drive.mount(\"/content/drive\", force_remount=True).\n"
          ]
        }
      ]
    },
    {
      "cell_type": "code",
      "metadata": {
        "id": "ydpQin-pHgUS"
      },
      "source": [
        "def get_hexdump(executable, num_of_ngrams=4):\n",
        "  executable = open(executable, 'rb')\n",
        "  data = executable.read()\n",
        "  executable.close()\n",
        "  data2hex = bin2hex(data)\n",
        "  output = ngrams(data2hex.split(\" \"), num_of_ngrams)\n",
        "  return [ ''.join(grams) for grams in output]\n",
        "\n",
        "def bin2hex(data):\n",
        "  data2hex = \"\"\n",
        "  for byte in data:\n",
        "    hex = str(binascii.hexlify(bytes([byte]))).split(\"'\")\n",
        "    if (len(hex) >= 2):\n",
        "      data2hex += hex[1]+\" \"\n",
        "    else:\n",
        "      data2hex += hex[0]+\" \"\n",
        "  return data2hex\n",
        "\n",
        "# def generate_ngrams(text, WordsToCombine):\n",
        "#     words = text.split()\n",
        "#     output = []  \n",
        "#     for i in range(len(words)- WordsToCombine+1):\n",
        "#       word = ''\n",
        "#       for i in range (i, i+WordsToCombine):\n",
        "#         word = word + words[i]\n",
        "#       output.append(word)\n",
        "#     return output\n",
        "\n",
        "# def calculateTotalCounts(uniqueOutput, output):\n",
        "#   Uniquecounts = []\n",
        "#   for i in range(len(uniqueOutput)):\n",
        "#     count = 0\n",
        "#     for j in range(len(output)):\n",
        "#       if output[j] == uniqueOutput[i]:\n",
        "#         count = count+1\n",
        "#     Uniquecounts.append(count)\n",
        "#   return Uniquecounts"
      ],
      "execution_count": 8,
      "outputs": []
    },
    {
      "cell_type": "code",
      "metadata": {
        "id": "R30u9CEZHjwk"
      },
      "source": [
        "def vectorize(data):\n",
        "  vectorizer = CountVectorizer()\n",
        "  vectorizer.fit(data)\n",
        "  vectorized = vectorizer.transform(data)\n",
        "  return vectorizer, vectorized"
      ],
      "execution_count": 9,
      "outputs": []
    },
    {
      "cell_type": "code",
      "metadata": {
        "id": "P3berQxFHmhS"
      },
      "source": [
        "def arrangeAndSort(data_vectorizer, data_vectorized):\n",
        "  data_arranged = list(zip(data_vectorizer.get_feature_names(), data_vectorized.sum(0).getA1()))\n",
        "  data_sorted = sorted(data_arranged, key=lambda item: item[1], reverse=True)\n",
        "  return data_sorted"
      ],
      "execution_count": 10,
      "outputs": []
    },
    {
      "cell_type": "code",
      "metadata": {
        "colab": {
          "base_uri": "https://localhost:8080/"
        },
        "id": "GgPCOVs8zNzT",
        "outputId": "d1126224-a3bc-41a4-c9a6-e242cea21835"
      },
      "source": [
        "def resolveMalwareFiles(FOLDER_PATHS, num_of_features=2000):\n",
        "  stopCheck, prev=0, 0\n",
        "  globalFeatures = np.array([])\n",
        "  for files in os.listdir(FOLDER_PATHS):\n",
        "    filepath = r\"/content/drive/MyDrive/Payloads/\"+files\n",
        "    data = get_hexdump(filepath)\n",
        "    data_vectorizer, data_vectorized = vectorize(data)\n",
        "    data_sorted = arrangeAndSort(data_vectorizer, data_vectorized)[:num_of_features]\n",
        "    if (len(globalFeatures) == 0):\n",
        "      globalFeatures = np.array(data_sorted)[:, 0].astype(str).tolist()\n",
        "    else:\n",
        "      globalFeatures = np.append(globalFeatures, np.array(data_sorted)[:, 0].astype(str).tolist())\n",
        "      indexes = np.unique(globalFeatures, return_index=True)[1]\n",
        "      globalFeatures = [globalFeatures[index] for index in sorted(indexes)]\n",
        "    if (stopCheck == prev+10):\n",
        "      prev = stopCheck\n",
        "      print(\"%f percent completed\"%((stopCheck/1000)*100), end=\", \")\n",
        "      print(\"Number of Features: %d\"%(len(globalFeatures)))\n",
        "      print(\"Number of files processed: %d\"%(stopCheck))\n",
        "    stopCheck += 1\n",
        "  return globalFeatures\n",
        "\n",
        "globalFeatures = resolveMalwareFiles(r\"/content/drive/MyDrive/Payloads\")\n",
        "print(len(globalFeatures))"
      ],
      "execution_count": null,
      "outputs": [
        {
          "output_type": "stream",
          "name": "stdout",
          "text": [
            "1.000000 percent completed, Number of Features: 12824\n",
            "Number of files processed: 10\n",
            "2.000000 percent completed, Number of Features: 21665\n",
            "Number of files processed: 20\n",
            "3.000000 percent completed, Number of Features: 32188\n",
            "Number of files processed: 30\n",
            "4.000000 percent completed, Number of Features: 39380\n",
            "Number of files processed: 40\n",
            "5.000000 percent completed, Number of Features: 42516\n",
            "Number of files processed: 50\n",
            "6.000000 percent completed, Number of Features: 48005\n",
            "Number of files processed: 60\n",
            "7.000000 percent completed, Number of Features: 53519\n",
            "Number of files processed: 70\n",
            "8.000000 percent completed, Number of Features: 57798\n",
            "Number of files processed: 80\n",
            "9.000000 percent completed, Number of Features: 61965\n",
            "Number of files processed: 90\n",
            "10.000000 percent completed, Number of Features: 66964\n",
            "Number of files processed: 100\n",
            "11.000000 percent completed, Number of Features: 69128\n",
            "Number of files processed: 110\n",
            "12.000000 percent completed, Number of Features: 71534\n",
            "Number of files processed: 120\n",
            "13.000000 percent completed, Number of Features: 75701\n",
            "Number of files processed: 130\n",
            "14.000000 percent completed, Number of Features: 78581\n",
            "Number of files processed: 140\n",
            "15.000000 percent completed, Number of Features: 83296\n",
            "Number of files processed: 150\n",
            "16.000000 percent completed, Number of Features: 87179\n",
            "Number of files processed: 160\n",
            "17.000000 percent completed, Number of Features: 91212\n",
            "Number of files processed: 170\n",
            "18.000000 percent completed, Number of Features: 95681\n",
            "Number of files processed: 180\n",
            "19.000000 percent completed, Number of Features: 97093\n",
            "Number of files processed: 190\n",
            "20.000000 percent completed, Number of Features: 99978\n",
            "Number of files processed: 200\n",
            "21.000000 percent completed, Number of Features: 103438\n",
            "Number of files processed: 210\n",
            "22.000000 percent completed, Number of Features: 106197\n",
            "Number of files processed: 220\n",
            "23.000000 percent completed, Number of Features: 108612\n",
            "Number of files processed: 230\n",
            "24.000000 percent completed, Number of Features: 115583\n",
            "Number of files processed: 240\n",
            "25.000000 percent completed, Number of Features: 120485\n",
            "Number of files processed: 250\n",
            "26.000000 percent completed, Number of Features: 122750\n",
            "Number of files processed: 260\n",
            "27.000000 percent completed, Number of Features: 125839\n",
            "Number of files processed: 270\n",
            "28.000000 percent completed, Number of Features: 127886\n",
            "Number of files processed: 280\n",
            "29.000000 percent completed, Number of Features: 132256\n",
            "Number of files processed: 290\n",
            "30.000000 percent completed, Number of Features: 134185\n",
            "Number of files processed: 300\n",
            "31.000000 percent completed, Number of Features: 136233\n",
            "Number of files processed: 310\n",
            "32.000000 percent completed, Number of Features: 139811\n",
            "Number of files processed: 320\n",
            "33.000000 percent completed, Number of Features: 142154\n",
            "Number of files processed: 330\n",
            "34.000000 percent completed, Number of Features: 144609\n",
            "Number of files processed: 340\n",
            "35.000000 percent completed, Number of Features: 147757\n",
            "Number of files processed: 350\n",
            "36.000000 percent completed, Number of Features: 150602\n",
            "Number of files processed: 360\n",
            "37.000000 percent completed, Number of Features: 153725\n",
            "Number of files processed: 370\n",
            "38.000000 percent completed, Number of Features: 155596\n",
            "Number of files processed: 380\n",
            "39.000000 percent completed, Number of Features: 156979\n",
            "Number of files processed: 390\n",
            "40.000000 percent completed, Number of Features: 160945\n",
            "Number of files processed: 400\n",
            "41.000000 percent completed, Number of Features: 163119\n",
            "Number of files processed: 410\n",
            "42.000000 percent completed, Number of Features: 164757\n",
            "Number of files processed: 420\n",
            "43.000000 percent completed, Number of Features: 169813\n",
            "Number of files processed: 430\n",
            "44.000000 percent completed, Number of Features: 171980\n",
            "Number of files processed: 440\n",
            "45.000000 percent completed, Number of Features: 173530\n",
            "Number of files processed: 450\n",
            "46.000000 percent completed, Number of Features: 177194\n",
            "Number of files processed: 460\n",
            "47.000000 percent completed, Number of Features: 179872\n",
            "Number of files processed: 470\n",
            "48.000000 percent completed, Number of Features: 182015\n",
            "Number of files processed: 480\n",
            "49.000000 percent completed, Number of Features: 183872\n",
            "Number of files processed: 490\n",
            "50.000000 percent completed, Number of Features: 185055\n",
            "Number of files processed: 500\n",
            "51.000000 percent completed, Number of Features: 187129\n",
            "Number of files processed: 510\n",
            "52.000000 percent completed, Number of Features: 192793\n",
            "Number of files processed: 520\n",
            "53.000000 percent completed, Number of Features: 196301\n",
            "Number of files processed: 530\n",
            "54.000000 percent completed, Number of Features: 197245\n",
            "Number of files processed: 540\n",
            "55.000000 percent completed, Number of Features: 198757\n",
            "Number of files processed: 550\n",
            "56.000000 percent completed, Number of Features: 201415\n",
            "Number of files processed: 560\n",
            "57.000000 percent completed, Number of Features: 206042\n",
            "Number of files processed: 570\n",
            "58.000000 percent completed, Number of Features: 207544\n",
            "Number of files processed: 580\n",
            "59.000000 percent completed, Number of Features: 209278\n",
            "Number of files processed: 590\n",
            "60.000000 percent completed, Number of Features: 211660\n",
            "Number of files processed: 600\n",
            "61.000000 percent completed, Number of Features: 214212\n",
            "Number of files processed: 610\n",
            "62.000000 percent completed, Number of Features: 217901\n",
            "Number of files processed: 620\n",
            "63.000000 percent completed, Number of Features: 219645\n",
            "Number of files processed: 630\n",
            "64.000000 percent completed, Number of Features: 221287\n",
            "Number of files processed: 640\n",
            "65.000000 percent completed, Number of Features: 223658\n",
            "Number of files processed: 650\n",
            "66.000000 percent completed, Number of Features: 226330\n",
            "Number of files processed: 660\n",
            "67.000000 percent completed, Number of Features: 227638\n",
            "Number of files processed: 670\n",
            "68.000000 percent completed, Number of Features: 230588\n",
            "Number of files processed: 680\n",
            "69.000000 percent completed, Number of Features: 240476\n",
            "Number of files processed: 690\n",
            "70.000000 percent completed, Number of Features: 247957\n",
            "Number of files processed: 700\n",
            "71.000000 percent completed, Number of Features: 257783\n",
            "Number of files processed: 710\n",
            "72.000000 percent completed, Number of Features: 262615\n",
            "Number of files processed: 720\n",
            "73.000000 percent completed, Number of Features: 269415\n",
            "Number of files processed: 730\n",
            "74.000000 percent completed, Number of Features: 275002\n",
            "Number of files processed: 740\n",
            "75.000000 percent completed, Number of Features: 283769\n",
            "Number of files processed: 750\n",
            "76.000000 percent completed, Number of Features: 289380\n",
            "Number of files processed: 760\n",
            "77.000000 percent completed, Number of Features: 298947\n",
            "Number of files processed: 770\n",
            "78.000000 percent completed, Number of Features: 305877\n",
            "Number of files processed: 780\n",
            "79.000000 percent completed, Number of Features: 311032\n",
            "Number of files processed: 790\n",
            "80.000000 percent completed, Number of Features: 316790\n",
            "Number of files processed: 800\n",
            "81.000000 percent completed, Number of Features: 320743\n",
            "Number of files processed: 810\n",
            "82.000000 percent completed, Number of Features: 325234\n",
            "Number of files processed: 820\n",
            "83.000000 percent completed, Number of Features: 327383\n",
            "Number of files processed: 830\n",
            "84.000000 percent completed, Number of Features: 328505\n",
            "Number of files processed: 840\n",
            "85.000000 percent completed, Number of Features: 330286\n",
            "Number of files processed: 850\n",
            "86.000000 percent completed, Number of Features: 334867\n",
            "Number of files processed: 860\n",
            "87.000000 percent completed, Number of Features: 338671\n",
            "Number of files processed: 870\n",
            "88.000000 percent completed, Number of Features: 341948\n",
            "Number of files processed: 880\n",
            "89.000000 percent completed, Number of Features: 349516\n",
            "Number of files processed: 890\n",
            "90.000000 percent completed, Number of Features: 356479\n",
            "Number of files processed: 900\n",
            "91.000000 percent completed, Number of Features: 359349\n",
            "Number of files processed: 910\n",
            "92.000000 percent completed, Number of Features: 365598\n",
            "Number of files processed: 920\n",
            "93.000000 percent completed, Number of Features: 367847\n",
            "Number of files processed: 930\n",
            "94.000000 percent completed, Number of Features: 370854\n",
            "Number of files processed: 940\n",
            "95.000000 percent completed, Number of Features: 372973\n",
            "Number of files processed: 950\n",
            "96.000000 percent completed, Number of Features: 379106\n",
            "Number of files processed: 960\n",
            "97.000000 percent completed, Number of Features: 381905\n",
            "Number of files processed: 970\n",
            "98.000000 percent completed, Number of Features: 385264\n",
            "Number of files processed: 980\n",
            "99.000000 percent completed, Number of Features: 393006\n",
            "Number of files processed: 990\n",
            "100.000000 percent completed, Number of Features: 399982\n",
            "Number of files processed: 1000\n",
            "101.000000 percent completed, Number of Features: 401460\n",
            "Number of files processed: 1010\n",
            "102.000000 percent completed, Number of Features: 402377\n",
            "Number of files processed: 1020\n",
            "103.000000 percent completed, Number of Features: 403611\n",
            "Number of files processed: 1030\n",
            "104.000000 percent completed, Number of Features: 405866\n",
            "Number of files processed: 1040\n",
            "105.000000 percent completed, Number of Features: 407784\n",
            "Number of files processed: 1050\n",
            "106.000000 percent completed, Number of Features: 409577\n",
            "Number of files processed: 1060\n",
            "107.000000 percent completed, Number of Features: 410805\n",
            "Number of files processed: 1070\n",
            "108.000000 percent completed, Number of Features: 412061\n",
            "Number of files processed: 1080\n",
            "412090\n"
          ]
        }
      ]
    },
    {
      "cell_type": "code",
      "metadata": {
        "colab": {
          "base_uri": "https://localhost:8080/"
        },
        "id": "6b9JR664myh4",
        "outputId": "5a3c3b79-fdd4-4ec8-d7d2-965055b4271d"
      },
      "source": [
        "len(globalFeatures)"
      ],
      "execution_count": null,
      "outputs": [
        {
          "output_type": "execute_result",
          "data": {
            "text/plain": [
              "412090"
            ]
          },
          "metadata": {},
          "execution_count": 79
        }
      ]
    },
    {
      "cell_type": "code",
      "metadata": {
        "id": "5UXHtpbYl9Cn",
        "colab": {
          "base_uri": "https://localhost:8080/",
          "height": 171
        },
        "outputId": "260d0c4d-8d71-496d-fcdb-7432c4c5122c"
      },
      "source": [
        "np.save('features_np.npy', globalFeatures)"
      ],
      "execution_count": 11,
      "outputs": [
        {
          "output_type": "error",
          "ename": "NameError",
          "evalue": "ignored",
          "traceback": [
            "\u001b[0;31m---------------------------------------------------------------------------\u001b[0m",
            "\u001b[0;31mNameError\u001b[0m                                 Traceback (most recent call last)",
            "\u001b[0;32m<ipython-input-11-eef6eeed0b4e>\u001b[0m in \u001b[0;36m<module>\u001b[0;34m()\u001b[0m\n\u001b[0;32m----> 1\u001b[0;31m \u001b[0mnp\u001b[0m\u001b[0;34m.\u001b[0m\u001b[0msave\u001b[0m\u001b[0;34m(\u001b[0m\u001b[0;34m'features_np.npy'\u001b[0m\u001b[0;34m,\u001b[0m \u001b[0mglobalFeatures\u001b[0m\u001b[0;34m)\u001b[0m\u001b[0;34m\u001b[0m\u001b[0;34m\u001b[0m\u001b[0m\n\u001b[0m",
            "\u001b[0;31mNameError\u001b[0m: name 'globalFeatures' is not defined"
          ]
        }
      ]
    },
    {
      "cell_type": "code",
      "metadata": {
        "colab": {
          "base_uri": "https://localhost:8080/"
        },
        "id": "2GcvEedavEYl",
        "outputId": "493cb559-8a46-4ad7-c7d8-5badbec2b252"
      },
      "source": [
        "globalFeatures = np.load(r'/content/features_np.npy')\n",
        "len(globalFeatures)"
      ],
      "execution_count": 12,
      "outputs": [
        {
          "output_type": "execute_result",
          "data": {
            "text/plain": [
              "412090"
            ]
          },
          "metadata": {},
          "execution_count": 12
        }
      ]
    },
    {
      "cell_type": "code",
      "metadata": {
        "id": "XXY9KMD_p8mz"
      },
      "source": [
        "def flatten_array(A):\n",
        "    rt = []\n",
        "    for i in A:\n",
        "      if isinstance(i, np.ndarray):\n",
        "        print('inside')\n",
        "        rt.extend(flatten(i))\n",
        "      else: rt.append(i)\n",
        "    return np.array(rt)\n",
        "\n",
        "globalFeatures = np.array(globalFeatures)\n",
        "globalFeatures = np.sort(globalFeatures)\n",
        "globalFeatures = flatten_array(globalFeatures)"
      ],
      "execution_count": null,
      "outputs": []
    },
    {
      "cell_type": "code",
      "metadata": {
        "id": "zQ6tPr0xBB66"
      },
      "source": [
        "def normalizeFeatures(data):\n",
        "  data_scaled = (data - data.min()) / (data.max() - data.min())   #MinMax Normalization\n",
        "  return data_scaled"
      ],
      "execution_count": null,
      "outputs": []
    },
    {
      "cell_type": "code",
      "metadata": {
        "colab": {
          "base_uri": "https://localhost:8080/"
        },
        "id": "CgDy9sURJLKP",
        "outputId": "1cbf4ec0-3302-4592-d426-1c352f60aa98"
      },
      "source": [
        "# def find_first_no_jit(item, vec):\n",
        "#   index = np.where(vec == item)\n",
        "#   if index:\n",
        "#     return index\n",
        "#   return -1\n",
        "\n",
        "def binarySearch(array, item):\n",
        "  lowPoint = 0\n",
        "  highpoint = len(array) - 1\n",
        "  while (lowPoint <= highpoint):\n",
        "      midPoint = int((lowPoint + highpoint) / 2)\n",
        "      if item == array[midPoint]:\n",
        "          return midPoint\n",
        "      elif item < array[midPoint]:\n",
        "          highpoint = midPoint - 1\n",
        "      else:\n",
        "          lowPoint = midPoint + 1\n",
        "\n",
        "  return -1\n",
        "\n",
        "def mergeWithGlobalVocab(globalFeatures):\n",
        "  stopCheck, prev=0, 0\n",
        "  global_Merged = []\n",
        "  for files in os.listdir(r\"/content/drive/MyDrive/Payloads\"):\n",
        "    filepath = r\"/content/drive/MyDrive/Payloads/\"+files\n",
        "    data = get_hexdump(filepath)\n",
        "    data_vectorizer, data_vectorized = vectorize(data)\n",
        "    data_sorted = arrangeAndSort(data_vectorizer, data_vectorized)[:2000]\n",
        "    features = [0]*globalFeatures.size\n",
        "    features = np.array(features)\n",
        "    for x in data_sorted:\n",
        "      id = binarySearch(globalFeatures, x[0])\n",
        "      if (id != -1):\n",
        "        features[id] = x[1]\n",
        "    global_Merged.append(features)\n",
        "    if (stopCheck == prev+10):\n",
        "      prev = stopCheck\n",
        "      print(\"%f percent completed\"%((stopCheck/1080)*100), end=\", \")\n",
        "      print(\"Length of Merged Features: %d\"%(len(global_Merged)), end=\", \")\n",
        "      print(\"Number of files processed: %d\"%(stopCheck))\n",
        "    stopCheck += 1\n",
        "  return np.array(global_Merged)\n",
        "\n",
        "merged_features = mergeWithGlobalVocab(globalFeatures)"
      ],
      "execution_count": null,
      "outputs": [
        {
          "output_type": "stream",
          "name": "stdout",
          "text": [
            "0.925926 percent completed, Length of Merged Features: 11, Number of files processed: 10\n",
            "1.851852 percent completed, Length of Merged Features: 21, Number of files processed: 20\n",
            "2.777778 percent completed, Length of Merged Features: 31, Number of files processed: 30\n",
            "3.703704 percent completed, Length of Merged Features: 41, Number of files processed: 40\n",
            "4.629630 percent completed, Length of Merged Features: 51, Number of files processed: 50\n",
            "5.555556 percent completed, Length of Merged Features: 61, Number of files processed: 60\n",
            "6.481481 percent completed, Length of Merged Features: 71, Number of files processed: 70\n",
            "7.407407 percent completed, Length of Merged Features: 81, Number of files processed: 80\n",
            "8.333333 percent completed, Length of Merged Features: 91, Number of files processed: 90\n",
            "9.259259 percent completed, Length of Merged Features: 101, Number of files processed: 100\n",
            "10.185185 percent completed, Length of Merged Features: 111, Number of files processed: 110\n",
            "11.111111 percent completed, Length of Merged Features: 121, Number of files processed: 120\n",
            "12.037037 percent completed, Length of Merged Features: 131, Number of files processed: 130\n",
            "12.962963 percent completed, Length of Merged Features: 141, Number of files processed: 140\n",
            "13.888889 percent completed, Length of Merged Features: 151, Number of files processed: 150\n",
            "14.814815 percent completed, Length of Merged Features: 161, Number of files processed: 160\n",
            "15.740741 percent completed, Length of Merged Features: 171, Number of files processed: 170\n",
            "16.666667 percent completed, Length of Merged Features: 181, Number of files processed: 180\n",
            "17.592593 percent completed, Length of Merged Features: 191, Number of files processed: 190\n",
            "18.518519 percent completed, Length of Merged Features: 201, Number of files processed: 200\n",
            "19.444444 percent completed, Length of Merged Features: 211, Number of files processed: 210\n",
            "20.370370 percent completed, Length of Merged Features: 221, Number of files processed: 220\n",
            "21.296296 percent completed, Length of Merged Features: 231, Number of files processed: 230\n",
            "22.222222 percent completed, Length of Merged Features: 241, Number of files processed: 240\n",
            "23.148148 percent completed, Length of Merged Features: 251, Number of files processed: 250\n",
            "24.074074 percent completed, Length of Merged Features: 261, Number of files processed: 260\n",
            "25.000000 percent completed, Length of Merged Features: 271, Number of files processed: 270\n",
            "25.925926 percent completed, Length of Merged Features: 281, Number of files processed: 280\n",
            "26.851852 percent completed, Length of Merged Features: 291, Number of files processed: 290\n",
            "27.777778 percent completed, Length of Merged Features: 301, Number of files processed: 300\n",
            "28.703704 percent completed, Length of Merged Features: 311, Number of files processed: 310\n",
            "29.629630 percent completed, Length of Merged Features: 321, Number of files processed: 320\n",
            "30.555556 percent completed, Length of Merged Features: 331, Number of files processed: 330\n",
            "31.481481 percent completed, Length of Merged Features: 341, Number of files processed: 340\n",
            "32.407407 percent completed, Length of Merged Features: 351, Number of files processed: 350\n",
            "33.333333 percent completed, Length of Merged Features: 361, Number of files processed: 360\n",
            "34.259259 percent completed, Length of Merged Features: 371, Number of files processed: 370\n",
            "35.185185 percent completed, Length of Merged Features: 381, Number of files processed: 380\n",
            "36.111111 percent completed, Length of Merged Features: 391, Number of files processed: 390\n",
            "37.037037 percent completed, Length of Merged Features: 401, Number of files processed: 400\n",
            "37.962963 percent completed, Length of Merged Features: 411, Number of files processed: 410\n",
            "38.888889 percent completed, Length of Merged Features: 421, Number of files processed: 420\n",
            "39.814815 percent completed, Length of Merged Features: 431, Number of files processed: 430\n",
            "40.740741 percent completed, Length of Merged Features: 441, Number of files processed: 440\n",
            "41.666667 percent completed, Length of Merged Features: 451, Number of files processed: 450\n",
            "42.592593 percent completed, Length of Merged Features: 461, Number of files processed: 460\n",
            "43.518519 percent completed, Length of Merged Features: 471, Number of files processed: 470\n",
            "44.444444 percent completed, Length of Merged Features: 481, Number of files processed: 480\n",
            "45.370370 percent completed, Length of Merged Features: 491, Number of files processed: 490\n",
            "46.296296 percent completed, Length of Merged Features: 501, Number of files processed: 500\n",
            "47.222222 percent completed, Length of Merged Features: 511, Number of files processed: 510\n",
            "48.148148 percent completed, Length of Merged Features: 521, Number of files processed: 520\n",
            "49.074074 percent completed, Length of Merged Features: 531, Number of files processed: 530\n",
            "50.000000 percent completed, Length of Merged Features: 541, Number of files processed: 540\n",
            "50.925926 percent completed, Length of Merged Features: 551, Number of files processed: 550\n",
            "51.851852 percent completed, Length of Merged Features: 561, Number of files processed: 560\n",
            "52.777778 percent completed, Length of Merged Features: 571, Number of files processed: 570\n",
            "53.703704 percent completed, Length of Merged Features: 581, Number of files processed: 580\n",
            "54.629630 percent completed, Length of Merged Features: 591, Number of files processed: 590\n",
            "55.555556 percent completed, Length of Merged Features: 601, Number of files processed: 600\n",
            "56.481481 percent completed, Length of Merged Features: 611, Number of files processed: 610\n"
          ]
        }
      ]
    },
    {
      "cell_type": "code",
      "metadata": {
        "id": "7ZGvdVtcqUUK"
      },
      "source": [
        "# compressed_SVD = TruncatedSVD(30)\n",
        "# compressed_data = compressed_SVD.fit_transform(features_frequency)\n",
        "# pd.DataFrame(compressed_SVD.components_)"
      ],
      "execution_count": null,
      "outputs": []
    },
    {
      "cell_type": "code",
      "metadata": {
        "colab": {
          "base_uri": "https://localhost:8080/"
        },
        "id": "dYr4dHCepif2",
        "outputId": "1c8405d4-fb8a-4bd5-e289-ea2ceae2af7c"
      },
      "source": [
        "len(globalFeatures)"
      ],
      "execution_count": null,
      "outputs": [
        {
          "output_type": "execute_result",
          "data": {
            "text/plain": [
              "412090"
            ]
          },
          "metadata": {},
          "execution_count": 124
        }
      ]
    },
    {
      "cell_type": "code",
      "metadata": {
        "id": "VI9eiHBbuVqg"
      },
      "source": [
        ""
      ],
      "execution_count": null,
      "outputs": []
    }
  ]
}