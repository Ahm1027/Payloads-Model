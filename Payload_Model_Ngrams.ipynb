{
  "nbformat": 4,
  "nbformat_minor": 0,
  "metadata": {
    "colab": {
      "name": "Payload_Model_Ngrams.ipynb",
      "provenance": [],
      "authorship_tag": "ABX9TyMIfBJ2NXj3+unw0vwdTd5f",
      "include_colab_link": true
    },
    "kernelspec": {
      "name": "python3",
      "display_name": "Python 3"
    },
    "language_info": {
      "name": "python"
    }
  },
  "cells": [
    {
      "cell_type": "markdown",
      "metadata": {
        "id": "view-in-github",
        "colab_type": "text"
      },
      "source": [
        "<a href=\"https://colab.research.google.com/github/Ahm1027/Payloads-Model/blob/master/Payload_Model_Ngrams.ipynb\" target=\"_parent\"><img src=\"https://colab.research.google.com/assets/colab-badge.svg\" alt=\"Open In Colab\"/></a>"
      ]
    },
    {
      "cell_type": "code",
      "metadata": {
        "id": "zPnUtvD1hqtl"
      },
      "source": [
        "import pandas as pd\n",
        "import numpy as np\n",
        "import os\n",
        "import tensorflow as tf\n",
        "from tensorflow.keras import Sequential\n",
        "from keras.layers import Activation, Dense, Dropout\n",
        "from sklearn.metrics import accuracy_score\n",
        "from sklearn.preprocessing import LabelBinarizer, LabelEncoder\n",
        "from sklearn import preprocessing\n",
        "from sklearn.naive_bayes import MultinomialNB\n",
        "from sklearn.pipeline import Pipeline\n",
        "from sklearn.feature_extraction.text import TfidfTransformer\n",
        "from sklearn.feature_extraction.text import CountVectorizer, TfidfVectorizer\n",
        "import matplotlib.pyplot as plt\n",
        "from google.colab import drive"
      ],
      "execution_count": 7,
      "outputs": []
    },
    {
      "cell_type": "code",
      "metadata": {
        "colab": {
          "base_uri": "https://localhost:8080/"
        },
        "id": "BFlRLYKeh3L-",
        "outputId": "9b797792-9a5d-4151-9672-48bc25726053"
      },
      "source": [
        "drive.mount('/content/drive')"
      ],
      "execution_count": 4,
      "outputs": [
        {
          "output_type": "stream",
          "name": "stdout",
          "text": [
            "Mounted at /content/drive\n"
          ]
        }
      ]
    },
    {
      "cell_type": "code",
      "metadata": {
        "id": "JD5jABhDiG3l"
      },
      "source": [
        "def "
      ],
      "execution_count": null,
      "outputs": []
    },
    {
      "cell_type": "code",
      "metadata": {
        "id": "GgPCOVs8zNzT"
      },
      "source": [
        "def walkAndResolve(FOLDER_PATHS):\n",
        "  dict = {}\n",
        "  for files in os.listdir(FOLDER_PATHS):\n",
        "    #read and extract hex\n",
        "\n",
        "resolveMalwareDirs(r\"/content/drive/MyDrive/Payloads\")"
      ],
      "execution_count": null,
      "outputs": []
    },
    {
      "cell_type": "code",
      "metadata": {
        "id": "F8ncPSW_l6kv"
      },
      "source": [
        "def extractHex(FOLDER_PATH):\n",
        "\n",
        "  if len(files) != 0:\n",
        "    for M_File in files:\n",
        "      if str.lower(M_File[-4:]) in requiredFormats or str.lower(M_File[-4:]) in otherFormats:\n",
        "        print(os.path.join(path, M_File))\n",
        "        dump = get_hexdump(str(os.path.join(path, M_File)))\n",
        "        if (len(FileDump) == 0):\n",
        "          if dump:\n",
        "            FileDump = dump\n",
        "        else:\n",
        "          if dump:\n",
        "            FileDump.append(dump)\n",
        "      elif len(os.path.splitext(M_File)) == 1:\n",
        "        if (M_File[-4:] != \".rar\" and M_File[-4:] != \".7z\" and M_File[-4:] != \".zip\"):\n",
        "          dump = get_hexdump(str(os.path.join(path, M_File)))\n",
        "          if (len(FileDump) == 0):\n",
        "            if dump:\n",
        "              FileDump = dump\n",
        "          else:\n",
        "            if dump:\n",
        "              FileDump.append(dump)\n",
        "\n",
        "    root_sample_name = parts[3]\n",
        "    i += 1\n",
        "    print(i)\n",
        "    MalwaresHex[root_sample_name] = FileDump\n",
        "  return MalwaresHex\n",
        "\n",
        "hex = extractHex(r\"/content/Malwares/Original\")\n",
        "print(hex)"
      ],
      "execution_count": null,
      "outputs": []
    },
    {
      "cell_type": "code",
      "metadata": {
        "id": "a5Zm9Sc5p9dj"
      },
      "source": [
        "def get_hexdump(executable):\n",
        "  executable = open(executable, 'rb')\n",
        "  data = executable.read()\n",
        "  executable.close()\n",
        "  data2hex = bin2hex(data)\n",
        "  output = generate_ngrams(text=data2hex, WordsToCombine=4)\n",
        "  return output\n",
        "\n",
        "def bin2hex(data):\n",
        "  data2hex = \"\"\n",
        "  for byte in data:\n",
        "    hex = str(binascii.hexlify(bytes([byte]))).split(\"'\")\n",
        "    if (len(hex) >= 2):\n",
        "      data2hex += hex[1]+\" \"\n",
        "    else:\n",
        "      data2hex += hex[0]+\" \"\n",
        "  return data2hex\n",
        "\n",
        "def generate_ngrams(text, WordsToCombine):\n",
        "    words = text.split()\n",
        "    output = []  \n",
        "    for i in range(len(words)- WordsToCombine+1):\n",
        "      word = ''\n",
        "      for i in range (i, i+WordsToCombine):\n",
        "        word = word + words[i]\n",
        "      output.append(word)\n",
        "    return output\n",
        "\n",
        "def calculateTotalCounts(uniqueOutput, output):\n",
        "  Uniquecounts = []\n",
        "  for i in range(len(uniqueOutput)):\n",
        "    count = 0\n",
        "    for j in range(len(output)):\n",
        "      if output[j] == uniqueOutput[i]:\n",
        "        count = count+1\n",
        "    Uniquecounts.append(count)\n",
        "  return Uniquecounts\n",
        "\n",
        "def vectorize(data):\n",
        "  vectorizer = CountVectorizer()\n",
        "  vectorizer.fit(data)\n",
        "  vector = vectorizer.transform(data)\n",
        "  return vector"
      ],
      "execution_count": null,
      "outputs": []
    },
    {
      "cell_type": "code",
      "metadata": {
        "colab": {
          "base_uri": "https://localhost:8080/",
          "height": 244
        },
        "id": "GulJOgg2qGL1",
        "outputId": "83c32957-05d5-4426-de39-1e03bce793f3"
      },
      "source": [
        "for files in os.listdir():\n",
        "  executable = open(executable, 'rb')\n",
        "  data = executable.read()\n",
        "  executable.close()\n",
        "  print(data)\n",
        "  break"
      ],
      "execution_count": 10,
      "outputs": [
        {
          "output_type": "error",
          "ename": "NameError",
          "evalue": "ignored",
          "traceback": [
            "\u001b[0;31m---------------------------------------------------------------------------\u001b[0m",
            "\u001b[0;31mNameError\u001b[0m                                 Traceback (most recent call last)",
            "\u001b[0;32m<ipython-input-10-d54a1a89b4fd>\u001b[0m in \u001b[0;36m<module>\u001b[0;34m()\u001b[0m\n\u001b[0;32m----> 1\u001b[0;31m \u001b[0;32mfor\u001b[0m \u001b[0mfiles\u001b[0m \u001b[0;32min\u001b[0m \u001b[0mos\u001b[0m\u001b[0;34m.\u001b[0m\u001b[0mlistdir\u001b[0m\u001b[0;34m(\u001b[0m\u001b[0mFOLDER_PATHS\u001b[0m\u001b[0;34m)\u001b[0m\u001b[0;34m:\u001b[0m\u001b[0;34m\u001b[0m\u001b[0;34m\u001b[0m\u001b[0m\n\u001b[0m\u001b[1;32m      2\u001b[0m   \u001b[0mexecutable\u001b[0m \u001b[0;34m=\u001b[0m \u001b[0mopen\u001b[0m\u001b[0;34m(\u001b[0m\u001b[0mexecutable\u001b[0m\u001b[0;34m,\u001b[0m \u001b[0;34m'rb'\u001b[0m\u001b[0;34m)\u001b[0m\u001b[0;34m\u001b[0m\u001b[0;34m\u001b[0m\u001b[0m\n\u001b[1;32m      3\u001b[0m   \u001b[0mdata\u001b[0m \u001b[0;34m=\u001b[0m \u001b[0mexecutable\u001b[0m\u001b[0;34m.\u001b[0m\u001b[0mread\u001b[0m\u001b[0;34m(\u001b[0m\u001b[0;34m)\u001b[0m\u001b[0;34m\u001b[0m\u001b[0;34m\u001b[0m\u001b[0m\n\u001b[1;32m      4\u001b[0m   \u001b[0mexecutable\u001b[0m\u001b[0;34m.\u001b[0m\u001b[0mclose\u001b[0m\u001b[0;34m(\u001b[0m\u001b[0;34m)\u001b[0m\u001b[0;34m\u001b[0m\u001b[0;34m\u001b[0m\u001b[0m\n\u001b[1;32m      5\u001b[0m   \u001b[0mprint\u001b[0m\u001b[0;34m(\u001b[0m\u001b[0mdata\u001b[0m\u001b[0;34m)\u001b[0m\u001b[0;34m\u001b[0m\u001b[0;34m\u001b[0m\u001b[0m\n",
            "\u001b[0;31mNameError\u001b[0m: name 'FOLDER_PATHS' is not defined"
          ]
        }
      ]
    },
    {
      "cell_type": "code",
      "metadata": {
        "id": "7ZGvdVtcqUUK"
      },
      "source": [
        ""
      ],
      "execution_count": null,
      "outputs": []
    }
  ]
}